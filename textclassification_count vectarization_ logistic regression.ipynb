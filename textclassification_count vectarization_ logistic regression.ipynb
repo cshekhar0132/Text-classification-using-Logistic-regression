{
 "cells": [
  {
   "cell_type": "markdown",
   "id": "86ae9cfd",
   "metadata": {},
   "source": [
    "# READ DATA"
   ]
  },
  {
   "cell_type": "code",
   "execution_count": 1,
   "id": "e659c504",
   "metadata": {},
   "outputs": [],
   "source": [
    "from warnings import filterwarnings\n",
    "filterwarnings('ignore')"
   ]
  },
  {
   "cell_type": "code",
   "execution_count": 8,
   "id": "7ea489fa",
   "metadata": {},
   "outputs": [],
   "source": [
    "import pandas as pd\n",
    "A=pd.read_csv('C:/Users/dell/Desktop/Restaurant_Reviews.tsv',sep='\\t')"
   ]
  },
  {
   "cell_type": "code",
   "execution_count": 9,
   "id": "86d301db",
   "metadata": {},
   "outputs": [
    {
     "data": {
      "text/html": [
       "<div>\n",
       "<style scoped>\n",
       "    .dataframe tbody tr th:only-of-type {\n",
       "        vertical-align: middle;\n",
       "    }\n",
       "\n",
       "    .dataframe tbody tr th {\n",
       "        vertical-align: top;\n",
       "    }\n",
       "\n",
       "    .dataframe thead th {\n",
       "        text-align: right;\n",
       "    }\n",
       "</style>\n",
       "<table border=\"1\" class=\"dataframe\">\n",
       "  <thead>\n",
       "    <tr style=\"text-align: right;\">\n",
       "      <th></th>\n",
       "      <th>Review</th>\n",
       "      <th>Liked</th>\n",
       "    </tr>\n",
       "  </thead>\n",
       "  <tbody>\n",
       "    <tr>\n",
       "      <th>0</th>\n",
       "      <td>Wow... Loved this place.</td>\n",
       "      <td>1</td>\n",
       "    </tr>\n",
       "    <tr>\n",
       "      <th>1</th>\n",
       "      <td>Crust is not good.</td>\n",
       "      <td>0</td>\n",
       "    </tr>\n",
       "    <tr>\n",
       "      <th>2</th>\n",
       "      <td>Not tasty and the texture was just nasty.</td>\n",
       "      <td>0</td>\n",
       "    </tr>\n",
       "    <tr>\n",
       "      <th>3</th>\n",
       "      <td>Stopped by during the late May bank holiday of...</td>\n",
       "      <td>1</td>\n",
       "    </tr>\n",
       "    <tr>\n",
       "      <th>4</th>\n",
       "      <td>The selection on the menu was great and so wer...</td>\n",
       "      <td>1</td>\n",
       "    </tr>\n",
       "  </tbody>\n",
       "</table>\n",
       "</div>"
      ],
      "text/plain": [
       "                                              Review  Liked\n",
       "0                           Wow... Loved this place.      1\n",
       "1                                 Crust is not good.      0\n",
       "2          Not tasty and the texture was just nasty.      0\n",
       "3  Stopped by during the late May bank holiday of...      1\n",
       "4  The selection on the menu was great and so wer...      1"
      ]
     },
     "execution_count": 9,
     "metadata": {},
     "output_type": "execute_result"
    }
   ],
   "source": [
    "A.head()"
   ]
  },
  {
   "cell_type": "code",
   "execution_count": 10,
   "id": "1fafac89",
   "metadata": {},
   "outputs": [
    {
     "data": {
      "text/plain": [
       "(1000, 2)"
      ]
     },
     "execution_count": 10,
     "metadata": {},
     "output_type": "execute_result"
    }
   ],
   "source": [
    "A.shape"
   ]
  },
  {
   "cell_type": "code",
   "execution_count": 49,
   "id": "69f90fa0",
   "metadata": {},
   "outputs": [],
   "source": [
    "Q=[]"
   ]
  },
  {
   "cell_type": "code",
   "execution_count": 50,
   "id": "d9bc6333",
   "metadata": {},
   "outputs": [],
   "source": [
    "for i in A.Review:\n",
    "    t=i.upper()\n",
    "    import re\n",
    "    l=re.sub(\"[^a-zA-Z ]\",\"\",t)\n",
    "    Q.append(l)\n",
    "    "
   ]
  },
  {
   "cell_type": "code",
   "execution_count": 51,
   "id": "19c3c11c",
   "metadata": {},
   "outputs": [],
   "source": [
    "from sklearn.feature_extraction.text import CountVectorizer\n",
    "cv=CountVectorizer()\n",
    "data=cv.fit_transform(Q).toarray()"
   ]
  },
  {
   "cell_type": "code",
   "execution_count": 53,
   "id": "68267686",
   "metadata": {},
   "outputs": [],
   "source": [
    "columns=cv.get_feature_names_out()"
   ]
  },
  {
   "cell_type": "code",
   "execution_count": 54,
   "id": "b232c5cb",
   "metadata": {},
   "outputs": [
    {
     "data": {
      "text/plain": [
       "2046"
      ]
     },
     "execution_count": 54,
     "metadata": {},
     "output_type": "execute_result"
    }
   ],
   "source": [
    "len(columns)"
   ]
  },
  {
   "cell_type": "code",
   "execution_count": 55,
   "id": "88fdd89b",
   "metadata": {},
   "outputs": [],
   "source": [
    "x=data"
   ]
  },
  {
   "cell_type": "code",
   "execution_count": 68,
   "id": "cd777c3e",
   "metadata": {},
   "outputs": [],
   "source": [
    "Y=A.Liked.values"
   ]
  },
  {
   "cell_type": "markdown",
   "id": "d05386ba",
   "metadata": {},
   "source": [
    "# by using logistic regression"
   ]
  },
  {
   "cell_type": "code",
   "execution_count": 72,
   "id": "e6f11bd3",
   "metadata": {},
   "outputs": [],
   "source": [
    "from sklearn.model_selection import train_test_split\n",
    "xtrain,xtest,ytrain,ytest=train_test_split(data,Y,test_size=0.2,random_state=21)"
   ]
  },
  {
   "cell_type": "code",
   "execution_count": 73,
   "id": "b3d74a84",
   "metadata": {},
   "outputs": [],
   "source": [
    "from sklearn.linear_model import LogisticRegression\n",
    "lr=LogisticRegression()\n",
    "model=lr.fit(xtrain,ytrain)"
   ]
  },
  {
   "cell_type": "code",
   "execution_count": 74,
   "id": "3ae2e3c4",
   "metadata": {},
   "outputs": [],
   "source": [
    "tr_pred=model.predict(xtrain)\n",
    "ts_pred=model.predict(xtest)"
   ]
  },
  {
   "cell_type": "code",
   "execution_count": 75,
   "id": "153216bc",
   "metadata": {},
   "outputs": [
    {
     "data": {
      "text/plain": [
       "(0.985, 0.845)"
      ]
     },
     "execution_count": 75,
     "metadata": {},
     "output_type": "execute_result"
    }
   ],
   "source": [
    "from sklearn.metrics import accuracy_score\n",
    "tr_acc=accuracy_score(ytrain,tr_pred)\n",
    "ts_acc=accuracy_score(ytest,ts_pred)\n",
    "tr_acc,ts_acc"
   ]
  },
  {
   "cell_type": "markdown",
   "id": "1c1cfcfd",
   "metadata": {},
   "source": [
    "# unknown data"
   ]
  },
  {
   "cell_type": "code",
   "execution_count": 76,
   "id": "56c5e20b",
   "metadata": {},
   "outputs": [],
   "source": [
    "B=pd.read_csv(\"C:/Users/dell/Desktop/rest_reviews_testing.csv\")"
   ]
  },
  {
   "cell_type": "code",
   "execution_count": 77,
   "id": "0f9967cf",
   "metadata": {},
   "outputs": [
    {
     "data": {
      "text/html": [
       "<div>\n",
       "<style scoped>\n",
       "    .dataframe tbody tr th:only-of-type {\n",
       "        vertical-align: middle;\n",
       "    }\n",
       "\n",
       "    .dataframe tbody tr th {\n",
       "        vertical-align: top;\n",
       "    }\n",
       "\n",
       "    .dataframe thead th {\n",
       "        text-align: right;\n",
       "    }\n",
       "</style>\n",
       "<table border=\"1\" class=\"dataframe\">\n",
       "  <thead>\n",
       "    <tr style=\"text-align: right;\">\n",
       "      <th></th>\n",
       "      <th>Review</th>\n",
       "    </tr>\n",
       "  </thead>\n",
       "  <tbody>\n",
       "    <tr>\n",
       "      <th>0</th>\n",
       "      <td>Tasty and delicious</td>\n",
       "    </tr>\n",
       "    <tr>\n",
       "      <th>1</th>\n",
       "      <td>crust is hard</td>\n",
       "    </tr>\n",
       "    <tr>\n",
       "      <th>2</th>\n",
       "      <td>yummy....I like Dominos pizza</td>\n",
       "    </tr>\n",
       "    <tr>\n",
       "      <th>3</th>\n",
       "      <td>fast service and good taste</td>\n",
       "    </tr>\n",
       "    <tr>\n",
       "      <th>4</th>\n",
       "      <td>Good taste</td>\n",
       "    </tr>\n",
       "  </tbody>\n",
       "</table>\n",
       "</div>"
      ],
      "text/plain": [
       "                          Review\n",
       "0            Tasty and delicious\n",
       "1                  crust is hard\n",
       "2  yummy....I like Dominos pizza\n",
       "3    fast service and good taste\n",
       "4                    Good taste "
      ]
     },
     "execution_count": 77,
     "metadata": {},
     "output_type": "execute_result"
    }
   ],
   "source": [
    "B.head()"
   ]
  },
  {
   "cell_type": "code",
   "execution_count": 78,
   "id": "d2fe1baa",
   "metadata": {},
   "outputs": [],
   "source": [
    "W=[]"
   ]
  },
  {
   "cell_type": "code",
   "execution_count": 79,
   "id": "ca727b1b",
   "metadata": {},
   "outputs": [],
   "source": [
    "for i in B.Review:\n",
    "    t=i.upper()\n",
    "    import re\n",
    "    l=re.sub(\"[^A-Za-z ]\",\"\",t)\n",
    "    W.append(l)"
   ]
  },
  {
   "cell_type": "code",
   "execution_count": 80,
   "id": "a10e1a6f",
   "metadata": {},
   "outputs": [
    {
     "data": {
      "text/plain": [
       "['TASTY AND DELICIOUS',\n",
       " 'CRUST IS HARD',\n",
       " 'YUMMYI LIKE DOMINOS PIZZA',\n",
       " 'FAST SERVICE AND GOOD TASTE',\n",
       " 'GOOD TASTE ',\n",
       " 'ITS VERY DELICIOUS HOPE IT WILL MAINTAIN TAST',\n",
       " 'FOOD WAS OKAY BUT THE CHEESY DIP PROVIDED WAS EXPIRED',\n",
       " 'TASTE IS OK BUT NOT SATISFIED',\n",
       " 'POOR SERVICE ',\n",
       " 'GOOD HYGIENE FOOD DELIVERED BY DOMINOS WITH PROPER SAFETY',\n",
       " 'NOT GOOD',\n",
       " 'TASTE IS NOT OK ALSO SERVICE IS NOT SATISFIED',\n",
       " 'DELAYED SERVICE',\n",
       " 'HORRIBLE TASTE',\n",
       " 'LATE SERVICE',\n",
       " 'TASTE IS OK BUT DELIVERY IS TOO LATECANT SPEND THAT MUCH TIME',\n",
       " 'DISAPPOINTING FOOD EXPERIENCE']"
      ]
     },
     "execution_count": 80,
     "metadata": {},
     "output_type": "execute_result"
    }
   ],
   "source": [
    "W"
   ]
  },
  {
   "cell_type": "code",
   "execution_count": 82,
   "id": "98aada89",
   "metadata": {},
   "outputs": [],
   "source": [
    "data1=cv.transform(W).toarray()"
   ]
  },
  {
   "cell_type": "code",
   "execution_count": 84,
   "id": "21a45fa8",
   "metadata": {},
   "outputs": [],
   "source": [
    "predict01=model.predict(data1)"
   ]
  },
  {
   "cell_type": "code",
   "execution_count": 85,
   "id": "9c06b574",
   "metadata": {},
   "outputs": [],
   "source": [
    "B['Liked']=predict01"
   ]
  },
  {
   "cell_type": "code",
   "execution_count": 86,
   "id": "bbf62a3a",
   "metadata": {},
   "outputs": [
    {
     "data": {
      "text/html": [
       "<div>\n",
       "<style scoped>\n",
       "    .dataframe tbody tr th:only-of-type {\n",
       "        vertical-align: middle;\n",
       "    }\n",
       "\n",
       "    .dataframe tbody tr th {\n",
       "        vertical-align: top;\n",
       "    }\n",
       "\n",
       "    .dataframe thead th {\n",
       "        text-align: right;\n",
       "    }\n",
       "</style>\n",
       "<table border=\"1\" class=\"dataframe\">\n",
       "  <thead>\n",
       "    <tr style=\"text-align: right;\">\n",
       "      <th></th>\n",
       "      <th>Review</th>\n",
       "      <th>Liked</th>\n",
       "    </tr>\n",
       "  </thead>\n",
       "  <tbody>\n",
       "    <tr>\n",
       "      <th>0</th>\n",
       "      <td>Tasty and delicious</td>\n",
       "      <td>1</td>\n",
       "    </tr>\n",
       "    <tr>\n",
       "      <th>1</th>\n",
       "      <td>crust is hard</td>\n",
       "      <td>0</td>\n",
       "    </tr>\n",
       "    <tr>\n",
       "      <th>2</th>\n",
       "      <td>yummy....I like Dominos pizza</td>\n",
       "      <td>1</td>\n",
       "    </tr>\n",
       "    <tr>\n",
       "      <th>3</th>\n",
       "      <td>fast service and good taste</td>\n",
       "      <td>1</td>\n",
       "    </tr>\n",
       "    <tr>\n",
       "      <th>4</th>\n",
       "      <td>Good taste</td>\n",
       "      <td>1</td>\n",
       "    </tr>\n",
       "    <tr>\n",
       "      <th>5</th>\n",
       "      <td>Its very delicious... hope it will maintain ta...</td>\n",
       "      <td>1</td>\n",
       "    </tr>\n",
       "    <tr>\n",
       "      <th>6</th>\n",
       "      <td>Food was okay but the cheesy dip provided was ...</td>\n",
       "      <td>0</td>\n",
       "    </tr>\n",
       "    <tr>\n",
       "      <th>7</th>\n",
       "      <td>taste is ok but not satisfied</td>\n",
       "      <td>0</td>\n",
       "    </tr>\n",
       "    <tr>\n",
       "      <th>8</th>\n",
       "      <td>Poor service</td>\n",
       "      <td>0</td>\n",
       "    </tr>\n",
       "    <tr>\n",
       "      <th>9</th>\n",
       "      <td>Good hygiene food delivered by dominos with pr...</td>\n",
       "      <td>1</td>\n",
       "    </tr>\n",
       "    <tr>\n",
       "      <th>10</th>\n",
       "      <td>Not Good</td>\n",
       "      <td>0</td>\n",
       "    </tr>\n",
       "    <tr>\n",
       "      <th>11</th>\n",
       "      <td>taste is not ok also service is not satisfied</td>\n",
       "      <td>0</td>\n",
       "    </tr>\n",
       "    <tr>\n",
       "      <th>12</th>\n",
       "      <td>Delayed service</td>\n",
       "      <td>0</td>\n",
       "    </tr>\n",
       "    <tr>\n",
       "      <th>13</th>\n",
       "      <td>Horrible taste</td>\n",
       "      <td>0</td>\n",
       "    </tr>\n",
       "    <tr>\n",
       "      <th>14</th>\n",
       "      <td>Late Service</td>\n",
       "      <td>0</td>\n",
       "    </tr>\n",
       "    <tr>\n",
       "      <th>15</th>\n",
       "      <td>taste is ok but delivery is too late..Can't sp...</td>\n",
       "      <td>0</td>\n",
       "    </tr>\n",
       "    <tr>\n",
       "      <th>16</th>\n",
       "      <td>disappointing food experience</td>\n",
       "      <td>0</td>\n",
       "    </tr>\n",
       "  </tbody>\n",
       "</table>\n",
       "</div>"
      ],
      "text/plain": [
       "                                               Review  Liked\n",
       "0                                 Tasty and delicious      1\n",
       "1                                       crust is hard      0\n",
       "2                       yummy....I like Dominos pizza      1\n",
       "3                         fast service and good taste      1\n",
       "4                                         Good taste       1\n",
       "5   Its very delicious... hope it will maintain ta...      1\n",
       "6   Food was okay but the cheesy dip provided was ...      0\n",
       "7                       taste is ok but not satisfied      0\n",
       "8                                       Poor service       0\n",
       "9   Good hygiene food delivered by dominos with pr...      1\n",
       "10                                           Not Good      0\n",
       "11      taste is not ok also service is not satisfied      0\n",
       "12                                    Delayed service      0\n",
       "13                                     Horrible taste      0\n",
       "14                                       Late Service      0\n",
       "15  taste is ok but delivery is too late..Can't sp...      0\n",
       "16                      disappointing food experience      0"
      ]
     },
     "execution_count": 86,
     "metadata": {},
     "output_type": "execute_result"
    }
   ],
   "source": [
    "B"
   ]
  },
  {
   "cell_type": "markdown",
   "id": "9a622b95",
   "metadata": {},
   "source": []
  },
  {
   "cell_type": "code",
   "execution_count": null,
   "id": "7d3b97ba",
   "metadata": {},
   "outputs": [],
   "source": [
    "\n"
   ]
  },
  {
   "cell_type": "code",
   "execution_count": null,
   "id": "7b65fc6d",
   "metadata": {},
   "outputs": [],
   "source": []
  },
  {
   "cell_type": "code",
   "execution_count": null,
   "id": "ad5e429f",
   "metadata": {},
   "outputs": [],
   "source": []
  },
  {
   "cell_type": "code",
   "execution_count": null,
   "id": "196e5f63",
   "metadata": {},
   "outputs": [],
   "source": []
  }
 ],
 "metadata": {
  "kernelspec": {
   "display_name": "Python 3",
   "language": "python",
   "name": "python3"
  },
  "language_info": {
   "codemirror_mode": {
    "name": "ipython",
    "version": 3
   },
   "file_extension": ".py",
   "mimetype": "text/x-python",
   "name": "python",
   "nbconvert_exporter": "python",
   "pygments_lexer": "ipython3",
   "version": "3.8.8"
  }
 },
 "nbformat": 4,
 "nbformat_minor": 5
}
